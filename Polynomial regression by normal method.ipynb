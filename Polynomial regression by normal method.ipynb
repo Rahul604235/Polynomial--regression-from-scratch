{
 "cells": [
  {
   "cell_type": "markdown",
   "metadata": {},
   "source": [
    "# Polynomial regression by normal method"
   ]
  },
  {
   "cell_type": "markdown",
   "metadata": {},
   "source": [
    "### Dataset generation\n",
    "- Generate 10 data points $f(x)=sin(2\\pi x)$ where $x \\hspace{0.1cm} \\epsilon \\hspace{0.1cm} [0, 1]$ is sampled uniformly.\n",
    "- Add Gaussian noise $N(0, 0.5)$ to the generated data. By generating data in this way, we are capturing a property of many real data sets - namely, that they possess an underlying regularity $f(x)$, which we wish to learn, but that individual observations are corrupted by random noise $N(0,0.5)$.\n",
    "- We will now use this set of 10 data points as the training dataset."
   ]
  },
  {
   "cell_type": "code",
   "execution_count": 36,
   "metadata": {},
   "outputs": [],
   "source": [
    "#numpy, matplotlib, seaborn, pandas libraries were used here.\n",
    "import numpy as np\n",
    "import matplotlib.pyplot as plt\n",
    "import pandas as pd\n",
    "import seaborn as sns\n",
    "%matplotlib inline"
   ]
  },
  {
   "cell_type": "code",
   "execution_count": 37,
   "metadata": {},
   "outputs": [],
   "source": [
    "#creation of training 10 datasets.\n",
    "N=10\n",
    "#linear spaced 10 datasets.\n",
    "random_x=np.linspace(0,1,N)\n",
    "random_x.sort()\n",
    "\n",
    "tetha=2*np.pi*random_x\n",
    "random_y=np.sin(tetha)\n",
    "#random y value of sin(x)\n",
    "random_y\n",
    "\n",
    "mean=0\n",
    "sigma=0.5\n",
    "noise=np.random.normal(mean,sigma,random_y.shape)\n",
    "\n",
    "#adding noise to the datasets such that mean=0 and standard deviation=0.5 of normal distribution.\n",
    "Final_value=random_y+noise"
   ]
  },
  {
   "cell_type": "code",
   "execution_count": 38,
   "metadata": {},
   "outputs": [
    {
     "data": {
      "image/png": "[encoded data removed]",
      "text/plain": [
       "<Figure size 432x288 with 1 Axes>"
      ]
     },
     "metadata": {
      "needs_background": "light"
     },
     "output_type": "display_data"
    }
   ],
   "source": [
    "#Final scattering plot of 10 random datasets.\n",
    "plt.scatter(random_x,Final_value)\n",
    "plt.xlabel('x_axis')\n",
    "plt.ylabel('y_axis')\n",
    "plt.title('Generate of 10 data points plot')\n",
    "plt.show()"
   ]
  },
  {
   "cell_type": "code",
   "execution_count": 39,
   "metadata": {},
   "outputs": [
    {
     "data": {
      "text/plain": [
       "array([0.        , 0.11111111, 0.22222222, 0.33333333, 0.44444444,\n",
       "       0.55555556, 0.66666667, 0.77777778, 0.88888889, 1.        ])"
      ]
     },
     "execution_count": 39,
     "metadata": {},
     "output_type": "execute_result"
    }
   ],
   "source": [
    "#random_x value\n",
    "random_x"
   ]
  },
  {
   "cell_type": "code",
   "execution_count": 40,
   "metadata": {},
   "outputs": [
    {
     "data": {
      "text/plain": [
       "array([ 0.00000000e+00,  6.42787610e-01,  9.84807753e-01,  8.66025404e-01,\n",
       "        3.42020143e-01, -3.42020143e-01, -8.66025404e-01, -9.84807753e-01,\n",
       "       -6.42787610e-01, -2.44929360e-16])"
      ]
     },
     "execution_count": 40,
     "metadata": {},
     "output_type": "execute_result"
    }
   ],
   "source": [
    "#random_y value\n",
    "random_y"
   ]
  },
  {
   "cell_type": "code",
   "execution_count": 41,
   "metadata": {},
   "outputs": [
    {
     "data": {
      "text/plain": [
       "array([-0.80108562,  0.54806617,  0.43319514, -0.32307208,  0.14250991,\n",
       "       -0.38865347,  0.07586446,  0.41120818,  0.17673206, -0.03668145])"
      ]
     },
     "execution_count": 41,
     "metadata": {},
     "output_type": "execute_result"
    }
   ],
   "source": [
    "#noise value\n",
    "noise"
   ]
  },
  {
   "cell_type": "code",
   "execution_count": 42,
   "metadata": {},
   "outputs": [
    {
     "data": {
      "text/plain": [
       "array([0.        , 0.6981317 , 1.3962634 , 2.0943951 , 2.7925268 ,\n",
       "       3.4906585 , 4.1887902 , 4.88692191, 5.58505361, 6.28318531])"
      ]
     },
     "execution_count": 42,
     "metadata": {},
     "output_type": "execute_result"
    }
   ],
   "source": [
    "#tetha value\n",
    "tetha"
   ]
  },
  {
   "cell_type": "code",
   "execution_count": 43,
   "metadata": {},
   "outputs": [
    {
     "data": {
      "text/plain": [
       "array([-0.80108562,  1.19085378,  1.41800289,  0.54295333,  0.48453006,\n",
       "       -0.73067361, -0.79016095, -0.57359958, -0.46605555, -0.03668145])"
      ]
     },
     "execution_count": 43,
     "metadata": {},
     "output_type": "execute_result"
    }
   ],
   "source": [
    "#Final_value\n",
    "Final_value"
   ]
  },
  {
   "cell_type": "markdown",
   "metadata": {},
   "source": [
    "### Polynomial curve fitting \n",
    "- Fit 5 polynomial regression models with varying polynomial orders $M = \\{0, 1, 3, 6, 9\\}$ on the training dataset. Use the polynomial function of the form:  $y(x, \\textbf{w})=\\sum^{M}_{j=0}w_jx^j$ and $L2$ loss as the error function: $E(\\textbf{w})= \\frac{1}{2}\\sum^{N}_{n=1}\\{y(x_n, \\textbf{w}) - t_n)\\}^2$, where $t_n$ is the true output for the input $x_n$, and $N$ is the total number of training points.\n",
    "- For each model: $M = \\{0, 1, 3, 6, 9\\}$, plot the graph of the function obtained from fitting the model onto the training dataset along with the training dataset points. \n",
    "- Report the mean squared error on the training dataset and explain its trend with increasing model complexity. Comment on overfitting and underfitting.\n",
    "- For each model: $M = \\{0, 1, 3, 6, 9\\}$, report the coefficients $\\textbf{w}^*$. Explain the trend in the coefficients with increasing model complexity. \n",
    "- The goal here is to achieve good generalization by making\n",
    "accurate predictions for new data, and not the training data. Use the data generation procedure used previously to generate 100 data points but with new choices for the random noise values included in the target values. These 100 data points will now form our validation dataset.\n",
    "- Evaluate each model: $M = \\{0, 1, 3, 6, 9\\}$ on the validation set and report the mean squared error for each model. \n",
    "- Plot the training and validation set mean squared errors for models with $M = \\{0, 1, 3, 6, 9\\}$ on the same graph. Explain the trend in the error values with increasing model complexity."
   ]
  },
  {
   "cell_type": "code",
   "execution_count": 44,
   "metadata": {},
   "outputs": [],
   "source": [
    "def polynomial_curve_fitting(random_x,M):\n",
    "    A=np.zeros((M+1,M+1))\n",
    "    num=len(random_x)\n",
    "    \n",
    "    #This is the code to find of w(i).\n",
    "    for i in range(M+1):\n",
    "        for j in range(M+1):\n",
    "            A[i,j]= sum([x**(i+j) for x in random_x ])\n",
    "        \n",
    "    B=np.zeros((M+1,1))\n",
    "    for i in range(M+1):\n",
    "        B[i]=sum([Final_value[j]*random_x[j]**i for j in range(num)])\n",
    "\n",
    "    A_inverse=np.linalg.inv(A)\n",
    "    w_values=np.matmul(A_inverse,B)\n",
    "    \n",
    "    return w_values"
   ]
  },
  {
   "cell_type": "code",
   "execution_count": 45,
   "metadata": {},
   "outputs": [],
   "source": [
    "#This is the to find out the polynomial function.\n",
    "def fn(x,w_values):\n",
    "    function=0\n",
    "    w=len(w_values)\n",
    "    for k in range(w):\n",
    "        function += w_values[k]*(x**k)\n",
    "    return function"
   ]
  },
  {
   "cell_type": "code",
   "execution_count": 46,
   "metadata": {},
   "outputs": [],
   "source": [
    "M=9\n",
    "w_values=polynomial_curve_fitting(random_x,M)"
   ]
  },
  {
   "cell_type": "code",
   "execution_count": 47,
   "metadata": {},
   "outputs": [],
   "source": [
    "#This code helps in calculating y_value for the found out polynomial function.\n",
    "y_axis=[fn(x,w_values) for x in random_x]"
   ]
  },
  {
   "cell_type": "markdown",
   "metadata": {},
   "source": [
    "plot of  the graph of the function obtained from fitting the model onto the training dataset along with the training dataset points."
   ]
  },
  {
   "cell_type": "code",
   "execution_count": 48,
   "metadata": {},
   "outputs": [
    {
     "data": {
      "image/png": "[encoded data removed]",
      "text/plain": [
       "<Figure size 432x288 with 1 Axes>"
      ]
     },
     "metadata": {
      "needs_background": "light"
     },
     "output_type": "display_data"
    }
   ],
   "source": [
    "#This is Polynomial curve fitting plot.\n",
    "plt.plot(random_x,y_axis,label='polynomial fitted curve plot')\n",
    "plt.scatter(random_x,Final_value,color='red',label='training datasetplot')\n",
    "plt.plot(random_x,random_y,color='green',label='f(x) curve plot')\n",
    "plt.ylim((-2,2))\n",
    "plt.xlim((0,1.5))\n",
    "plt.xlabel('x_axis')\n",
    "plt.ylabel('y_axis')\n",
    "plt.title('Polynomial curve fitting plot for M={}'.format(M) )\n",
    "plt.legend()\n",
    "plt.show()"
   ]
  },
  {
   "cell_type": "markdown",
   "metadata": {},
   "source": [
    "Report of the mean squared error on the training dataset and the coeffcient of w"
   ]
  },
  {
   "cell_type": "code",
   "execution_count": 49,
   "metadata": {},
   "outputs": [],
   "source": [
    "#Mean square error\n",
    "mse_value={}\n",
    "mse_test=[]\n",
    "w_values_all={}\n",
    "M=[0,1,3,6,9]\n",
    "for m in M:\n",
    "    w_values=polynomial_curve_fitting(random_x,m)\n",
    "    w_values_all.update({'M={}'.format(m):w_values})\n",
    "    #This code helps in calculating y_value for the found out polynomial function.\n",
    "    y_axis=[fn(x,w_values) for x in random_x]\n",
    "    \n",
    "    total=0\n",
    "    for i in range(N):\n",
    "        total += (Final_value[i]-y_axis[i])**2\n",
    "    MSE=total/N\n",
    "    mse_value.update({'{}'.format(m):MSE})\n",
    "    mse_test.append(MSE)"
   ]
  },
  {
   "cell_type": "markdown",
   "metadata": {},
   "source": [
    " The coefficients of  𝐰."
   ]
  },
  {
   "cell_type": "code",
   "execution_count": 50,
   "metadata": {},
   "outputs": [
    {
     "data": {
      "text/plain": [
       "{'M=0': array([[0.02380833]]),\n",
       " 'M=1': array([[ 0.56629796],\n",
       "        [-1.08497927]]),\n",
       " 'M=3': array([[ -0.44181829],\n",
       "        [ 14.32284109],\n",
       "        [-39.25594121],\n",
       "        [ 25.61933407]]),\n",
       " 'M=6': array([[  -0.7965621 ],\n",
       "        [  30.82965905],\n",
       "        [-145.20275381],\n",
       "        [ 285.83008024],\n",
       "        [-314.61337085],\n",
       "        [ 201.33217547],\n",
       "        [ -57.43053962]]),\n",
       " 'M=9': array([[-8.01034504e-01],\n",
       "        [-2.01423931e+02],\n",
       "        [ 5.19602484e+03],\n",
       "        [-4.73920618e+04],\n",
       "        [ 2.20870761e+05],\n",
       "        [-5.93444276e+05],\n",
       "        [ 9.56270063e+05],\n",
       "        [-9.12059518e+05],\n",
       "        [ 4.74489007e+05],\n",
       "        [-1.03727812e+05]])}"
      ]
     },
     "execution_count": 50,
     "metadata": {},
     "output_type": "execute_result"
    }
   ],
   "source": [
    "w_values_all"
   ]
  },
  {
   "cell_type": "markdown",
   "metadata": {},
   "source": [
    "mean squared error on the training dataset"
   ]
  },
  {
   "cell_type": "code",
   "execution_count": 51,
   "metadata": {},
   "outputs": [
    {
     "data": {
      "text/html": [
       "<div>\n",
       "<style scoped>\n",
       "    .dataframe tbody tr th:only-of-type {\n",
       "        vertical-align: middle;\n",
       "    }\n",
       "\n",
       "    .dataframe tbody tr th {\n",
       "        vertical-align: top;\n",
       "    }\n",
       "\n",
       "    .dataframe thead th {\n",
       "        text-align: right;\n",
       "    }\n",
       "</style>\n",
       "<table border=\"1\" class=\"dataframe\">\n",
       "  <thead>\n",
       "    <tr style=\"text-align: right;\">\n",
       "      <th></th>\n",
       "      <th>Mean_square_error on training data</th>\n",
       "      <th>M_value</th>\n",
       "    </tr>\n",
       "  </thead>\n",
       "  <tbody>\n",
       "    <tr>\n",
       "      <th>0</th>\n",
       "      <td>6.300310e-01</td>\n",
       "      <td>M=0</td>\n",
       "    </tr>\n",
       "    <tr>\n",
       "      <th>1</th>\n",
       "      <td>5.101331e-01</td>\n",
       "      <td>M=1</td>\n",
       "    </tr>\n",
       "    <tr>\n",
       "      <th>3</th>\n",
       "      <td>1.231511e-01</td>\n",
       "      <td>M=3</td>\n",
       "    </tr>\n",
       "    <tr>\n",
       "      <th>6</th>\n",
       "      <td>3.154278e-02</td>\n",
       "      <td>M=6</td>\n",
       "    </tr>\n",
       "    <tr>\n",
       "      <th>9</th>\n",
       "      <td>5.807022e-09</td>\n",
       "      <td>M=9</td>\n",
       "    </tr>\n",
       "  </tbody>\n",
       "</table>\n",
       "</div>"
      ],
      "text/plain": [
       "   Mean_square_error on training data M_value\n",
       "0                        6.300310e-01     M=0\n",
       "1                        5.101331e-01     M=1\n",
       "3                        1.231511e-01     M=3\n",
       "6                        3.154278e-02     M=6\n",
       "9                        5.807022e-09     M=9"
      ]
     },
     "execution_count": 51,
     "metadata": {},
     "output_type": "execute_result"
    }
   ],
   "source": [
    "Mean_square_error = pd.DataFrame(mse_value,index=['Mean_square_error on training data'])\n",
    "Mean_square_error=Mean_square_error.transpose()\n",
    "Mean_square_error['M_value']=['M=0','M=1','M=3','M=6','M=9']\n",
    "Mean_square_error"
   ]
  },
  {
   "cell_type": "markdown",
   "metadata": {},
   "source": [
    " Creation of validation dataset (100 data points)."
   ]
  },
  {
   "cell_type": "code",
   "execution_count": 52,
   "metadata": {},
   "outputs": [],
   "source": [
    "#creation of 100 validation datasets.\n",
    "Nv=100\n",
    "random_x_valid=np.linspace(0,1,Nv)\n",
    "random_x_valid.sort()\n",
    "\n",
    "tetha_valid=2*np.pi*random_x_valid\n",
    "random_y_valid=np.sin(tetha_valid)\n",
    "random_y_valid\n",
    "\n",
    "mean_valid=0\n",
    "sigma_valid=0.5\n",
    "noise_valid=np.random.normal(mean_valid,sigma_valid,random_y_valid.shape)\n",
    "\n",
    "Final_value_valid=random_y_valid+noise_valid"
   ]
  },
  {
   "cell_type": "code",
   "execution_count": 53,
   "metadata": {},
   "outputs": [],
   "source": [
    "#Final_value_valid"
   ]
  },
  {
   "cell_type": "markdown",
   "metadata": {},
   "source": [
    " Evaluating model for 100 new validation datasets."
   ]
  },
  {
   "cell_type": "code",
   "execution_count": 54,
   "metadata": {},
   "outputs": [],
   "source": [
    "#This code helps in calculating y_value for the found out polynomial function.\n",
    "#Mean square error\n",
    "mse_value_valid=[]\n",
    "M=[0,1,3,6,9]\n",
    "for m in M:\n",
    "    w_values=polynomial_curve_fitting(random_x,m)\n",
    "    \n",
    "    #This code helps in calculating y_value for the found out polynomial function.\n",
    "    y_axis_valid=[fn(x,w_values) for x in random_x_valid]\n",
    "    \n",
    "    total=0\n",
    "    for i in range(N):\n",
    "        total += (Final_value_valid[i]-y_axis_valid[i])**2\n",
    "    MSE=total/Nv\n",
    "    mse_value_valid.append(MSE)\n"
   ]
  },
  {
   "cell_type": "code",
   "execution_count": 55,
   "metadata": {},
   "outputs": [
    {
     "data": {
      "text/html": [
       "<div>\n",
       "<style scoped>\n",
       "    .dataframe tbody tr th:only-of-type {\n",
       "        vertical-align: middle;\n",
       "    }\n",
       "\n",
       "    .dataframe tbody tr th {\n",
       "        vertical-align: top;\n",
       "    }\n",
       "\n",
       "    .dataframe thead th {\n",
       "        text-align: right;\n",
       "    }\n",
       "</style>\n",
       "<table border=\"1\" class=\"dataframe\">\n",
       "  <thead>\n",
       "    <tr style=\"text-align: right;\">\n",
       "      <th></th>\n",
       "      <th>Mean_square_error on training data</th>\n",
       "      <th>M_value</th>\n",
       "      <th>Mean_square_error on validation data</th>\n",
       "    </tr>\n",
       "  </thead>\n",
       "  <tbody>\n",
       "    <tr>\n",
       "      <th>0</th>\n",
       "      <td>6.300310e-01</td>\n",
       "      <td>M=0</td>\n",
       "      <td>[0.0362578433700038]</td>\n",
       "    </tr>\n",
       "    <tr>\n",
       "      <th>1</th>\n",
       "      <td>5.101331e-01</td>\n",
       "      <td>M=1</td>\n",
       "      <td>[0.01865765611618459]</td>\n",
       "    </tr>\n",
       "    <tr>\n",
       "      <th>3</th>\n",
       "      <td>1.231511e-01</td>\n",
       "      <td>M=3</td>\n",
       "      <td>[0.03662155862427861]</td>\n",
       "    </tr>\n",
       "    <tr>\n",
       "      <th>6</th>\n",
       "      <td>3.154278e-02</td>\n",
       "      <td>M=6</td>\n",
       "      <td>[0.04997556962062541]</td>\n",
       "    </tr>\n",
       "    <tr>\n",
       "      <th>9</th>\n",
       "      <td>5.807022e-09</td>\n",
       "      <td>M=9</td>\n",
       "      <td>[0.6380800196539298]</td>\n",
       "    </tr>\n",
       "  </tbody>\n",
       "</table>\n",
       "</div>"
      ],
      "text/plain": [
       "   Mean_square_error on training data M_value  \\\n",
       "0                        6.300310e-01     M=0   \n",
       "1                        5.101331e-01     M=1   \n",
       "3                        1.231511e-01     M=3   \n",
       "6                        3.154278e-02     M=6   \n",
       "9                        5.807022e-09     M=9   \n",
       "\n",
       "  Mean_square_error on validation data  \n",
       "0                 [0.0362578433700038]  \n",
       "1                [0.01865765611618459]  \n",
       "3                [0.03662155862427861]  \n",
       "6                [0.04997556962062541]  \n",
       "9                 [0.6380800196539298]  "
      ]
     },
     "execution_count": 55,
     "metadata": {},
     "output_type": "execute_result"
    }
   ],
   "source": [
    "mse_value_valid\n",
    "Mean_square_error['Mean_square_error on validation data']=mse_value_valid\n",
    "Mean_square_error"
   ]
  },
  {
   "cell_type": "markdown",
   "metadata": {},
   "source": [
    " Report of the mean squared error on the validation dataset and plot."
   ]
  },
  {
   "cell_type": "code",
   "execution_count": 56,
   "metadata": {},
   "outputs": [
    {
     "data": {
      "image/png": "[encoded data removed]",
      "text/plain": [
       "<Figure size 432x288 with 1 Axes>"
      ]
     },
     "metadata": {
      "needs_background": "light"
     },
     "output_type": "display_data"
    }
   ],
   "source": [
    "plt.plot(M,mse_test,label='mean square error of testing set')\n",
    "plt.plot(M,mse_value_valid,label='mean square error of validation set')\n",
    "plt.xlabel('The value of M (degree of polynomial)')\n",
    "plt.ylabel('mean square error')\n",
    "plt.title( 'Plot the training and validation set')\n",
    "plt.legend()\n",
    "plt.show()"
   ]
  },
  {
   "cell_type": "markdown",
   "metadata": {},
   "source": [
    "### Regularization\n",
    "\n",
    "We've seen the effects of increasing model complexity on the training error and the validation error above. We will now use L2 regularization to reduce overfitting.\n",
    "\n",
    "- Fit a polynomial regression model of order $M=9$ to the same training dataset as before but now using the regularized error function given by $E^{'}(\\textbf{w})= \\frac{1}{2}\\sum^{N}_{n=1}\\{y(x_n, \\textbf{w}) - t_n)\\}^2 + \\frac{\\lambda}{2}{\\|\\textbf{w}\\|}^2$ where $\\lambda$ is the regularization hyperparameter. Use the following values for $\\lambda$: $\\lambda={0.01, 0.1, 1}$.\n",
    "- Report the coefficients of the model fit above for $\\lambda={0.01, 0.1, 1}$. Explain the trend in the coefficient values with increasing $\\lambda$.\n",
    "- Find the optimal value of the hyperparameter $\\lambda$. \n",
    "- Compare the validation error results of the following two models : polynomial regression model of order $M=9$ without regularization and polynomial regression model of order $M=9$ with regularization hyperparameter as estimated above."
   ]
  },
  {
   "cell_type": "code",
   "execution_count": 57,
   "metadata": {},
   "outputs": [],
   "source": [
    "def polynomial_curve_fitting_regularization(random_x,Mr,lamda):\n",
    "    \n",
    "    Ar=np.zeros((Mr+1,Mr+1))\n",
    "    numr=len(random_x)\n",
    "   \n",
    "    #This is the code to find of w(i).\n",
    "    for i in range(Mr+1):\n",
    "        for j in range(Mr+1):\n",
    "            if i==j:\n",
    "                Ar[i,j]=lamda + sum([x**(i+j) for x in random_x ])\n",
    "            else:\n",
    "                Ar[i,j]= sum([x**(i+j) for x in random_x ])\n",
    "        \n",
    "    Br=np.zeros((Mr+1,1))\n",
    "    for i in range(Mr+1):\n",
    "        Br[i]=sum([Final_value[j]*random_x[j]**i for j in range(numr)])\n",
    "\n",
    "    A_inverser=np.linalg.inv(Ar)\n",
    "    w_valuesr=np.matmul(A_inverser,Br)\n",
    "    \n",
    "    return w_valuesr"
   ]
  },
  {
   "cell_type": "code",
   "execution_count": 58,
   "metadata": {},
   "outputs": [],
   "source": [
    "#This is the to find out the polynomial function.\n",
    "def fnr(x,w_valuesr):\n",
    "    function=0\n",
    "    wr=len(w_valuesr)\n",
    "    for k in range(wr):\n",
    "        function += w_valuesr[k]*(x**k)\n",
    "    return function"
   ]
  },
  {
   "cell_type": "code",
   "execution_count": 59,
   "metadata": {},
   "outputs": [
    {
     "data": {
      "text/plain": [
       "array([[-8.01034504e-01],\n",
       "       [-2.01423931e+02],\n",
       "       [ 5.19602484e+03],\n",
       "       [-4.73920618e+04],\n",
       "       [ 2.20870761e+05],\n",
       "       [-5.93444276e+05],\n",
       "       [ 9.56270063e+05],\n",
       "       [-9.12059518e+05],\n",
       "       [ 4.74489007e+05],\n",
       "       [-1.03727812e+05]])"
      ]
     },
     "execution_count": 59,
     "metadata": {},
     "output_type": "execute_result"
    }
   ],
   "source": [
    "polynomial_curve_fitting_regularization(random_x,9,0)"
   ]
  },
  {
   "cell_type": "markdown",
   "metadata": {},
   "source": [
    " The coefficients of  𝐰 for regularisation."
   ]
  },
  {
   "cell_type": "code",
   "execution_count": 60,
   "metadata": {},
   "outputs": [
    {
     "data": {
      "text/plain": [
       "{'lamda=0': array([5.80702185e-09]),\n",
       " 'lamda=0.01': array([0.2975981]),\n",
       " 'lamda=0.1': array([0.40212923]),\n",
       " 'lamda=1': array([0.49887499])}"
      ]
     },
     "execution_count": 60,
     "metadata": {},
     "output_type": "execute_result"
    }
   ],
   "source": [
    "Mr=9\n",
    "mse_value_reg={}\n",
    "w_values_reg={}\n",
    "lamda=[0,0.01,0.1,1]\n",
    "for i in lamda:\n",
    "    w_values_r=polynomial_curve_fitting_regularization(random_x,Mr,i)\n",
    "    w_values_reg.update({'lamda={}'.format(i):w_values_r})\n",
    "    \n",
    "    #This code helps in calculating y_value for the found out polynomial function.\n",
    "    y_axis_reg=[fnr(x,w_values_r) for x in random_x]\n",
    "    \n",
    "    total=0\n",
    "    for j in range(N):\n",
    "        total += (Final_value[j]-y_axis_reg[j])**2\n",
    "    MSE=total/N\n",
    "    \n",
    "    mse_value_reg.update({'lamda={}'.format(i):MSE})\n",
    "#Mean square value for testing data.\n",
    "mse_value_reg"
   ]
  },
  {
   "cell_type": "code",
   "execution_count": 61,
   "metadata": {},
   "outputs": [],
   "source": [
    "#w_values_reg"
   ]
  },
  {
   "cell_type": "code",
   "execution_count": 62,
   "metadata": {},
   "outputs": [],
   "source": [
    "#This code helps in calculating y_value for the found out polynomial function.\n",
    "lam=0.01\n",
    "w_values_r=polynomial_curve_fitting_regularization(random_x,9,lam)\n",
    "y_axisr=[fnr(x,w_values_r) for x in random_x]"
   ]
  },
  {
   "cell_type": "code",
   "execution_count": 63,
   "metadata": {},
   "outputs": [
    {
     "data": {
      "image/png": "[encoded data removed]",
      "text/plain": [
       "<Figure size 432x288 with 1 Axes>"
      ]
     },
     "metadata": {
      "needs_background": "light"
     },
     "output_type": "display_data"
    }
   ],
   "source": [
    "#This is Polynomial curve fitting plot.\n",
    "plt.plot(random_x,y_axisr,label='polynomial fitted curve plot')\n",
    "plt.scatter(random_x,Final_value,color='red',label='training datasetplot')\n",
    "plt.plot(random_x,random_y,color='green',label='f(x) curve plot')\n",
    "plt.ylim((-2,2))\n",
    "plt.xlim((0,1.5))\n",
    "plt.xlabel('x_axis')\n",
    "plt.ylabel('y_axis')\n",
    "plt.title('Polynomial curve fitting plot for M=9 with regularisation λ={}'.format(lam) )\n",
    "plt.legend()\n",
    "plt.show()"
   ]
  },
  {
   "cell_type": "markdown",
   "metadata": {},
   "source": [
    "Comparing the validation error results of the following two models : polynomial regression model of order  𝑀=9  without regularization and polynomial regression model of order  𝑀=9  with regularization hyperparameter as estimated above."
   ]
  },
  {
   "cell_type": "code",
   "execution_count": 64,
   "metadata": {},
   "outputs": [
    {
     "data": {
      "text/plain": [
       "{'lamda=0': array([1.25250139]),\n",
       " 'lamda=0.01': array([0.26278542]),\n",
       " 'lamda=0.1': array([0.34141962]),\n",
       " 'lamda=1': array([0.50803441])}"
      ]
     },
     "execution_count": 64,
     "metadata": {},
     "output_type": "execute_result"
    }
   ],
   "source": [
    "#This code helps in calculating y_value for the found out polynomial function.\n",
    "#Mean square error\n",
    "mse_value_hyp={}\n",
    "lamda=[0,0.01,0.1,1]\n",
    "for lam in lamda:\n",
    "    w_values_r=polynomial_curve_fitting_regularization(random_x,9,lam)\n",
    "    y_axis_validr=[fnr(x,w_values_r) for x in random_x_valid]\n",
    "    \n",
    "    total_validr=0\n",
    "    for i in range(Nv):\n",
    "        total_validr += (Final_value_valid[i]-y_axis_validr[i])**2\n",
    "    MSE_validr=total_validr/Nv\n",
    "    \n",
    "    mse_value_hyp.update({'lamda={}'.format(lam):MSE_validr})\n",
    "\n",
    "#Mean square value for validation data\n",
    "mse_value_hyp"
   ]
  },
  {
   "cell_type": "code",
   "execution_count": null,
   "metadata": {},
   "outputs": [],
   "source": []
  },
  {
   "cell_type": "markdown",
   "metadata": {},
   "source": [
    "# Observation and Result:"
   ]
  },
  {
   "cell_type": "markdown",
   "metadata": {},
   "source": [
    "### Polynomial curve fitting"
   ]
  },
  {
   "cell_type": "markdown",
   "metadata": {},
   "source": [
    "Q.the mean squared error on the training dataset and explain its trend with increasing model complexity. Comment on overfitting and underfitting.?"
   ]
  },
  {
   "cell_type": "markdown",
   "metadata": {},
   "source": [
    "The mean square on the training dataset was found to decrease as the M increases.\n",
    "For M=0 it was underfitting.\n",
    "For M=9 it was overfitting."
   ]
  },
  {
   "cell_type": "markdown",
   "metadata": {},
   "source": [
    "mean squared error on the training dataset"
   ]
  },
  {
   "cell_type": "code",
   "execution_count": 65,
   "metadata": {},
   "outputs": [
    {
     "data": {
      "text/html": [
       "<div>\n",
       "<style scoped>\n",
       "    .dataframe tbody tr th:only-of-type {\n",
       "        vertical-align: middle;\n",
       "    }\n",
       "\n",
       "    .dataframe tbody tr th {\n",
       "        vertical-align: top;\n",
       "    }\n",
       "\n",
       "    .dataframe thead th {\n",
       "        text-align: right;\n",
       "    }\n",
       "</style>\n",
       "<table border=\"1\" class=\"dataframe\">\n",
       "  <thead>\n",
       "    <tr style=\"text-align: right;\">\n",
       "      <th></th>\n",
       "      <th>Mean_square_error on training data</th>\n",
       "      <th>M_value</th>\n",
       "      <th>Mean_square_error on validation data</th>\n",
       "    </tr>\n",
       "  </thead>\n",
       "  <tbody>\n",
       "    <tr>\n",
       "      <th>0</th>\n",
       "      <td>6.300310e-01</td>\n",
       "      <td>M=0</td>\n",
       "      <td>[0.0362578433700038]</td>\n",
       "    </tr>\n",
       "    <tr>\n",
       "      <th>1</th>\n",
       "      <td>5.101331e-01</td>\n",
       "      <td>M=1</td>\n",
       "      <td>[0.01865765611618459]</td>\n",
       "    </tr>\n",
       "    <tr>\n",
       "      <th>3</th>\n",
       "      <td>1.231511e-01</td>\n",
       "      <td>M=3</td>\n",
       "      <td>[0.03662155862427861]</td>\n",
       "    </tr>\n",
       "    <tr>\n",
       "      <th>6</th>\n",
       "      <td>3.154278e-02</td>\n",
       "      <td>M=6</td>\n",
       "      <td>[0.04997556962062541]</td>\n",
       "    </tr>\n",
       "    <tr>\n",
       "      <th>9</th>\n",
       "      <td>5.807022e-09</td>\n",
       "      <td>M=9</td>\n",
       "      <td>[0.6380800196539298]</td>\n",
       "    </tr>\n",
       "  </tbody>\n",
       "</table>\n",
       "</div>"
      ],
      "text/plain": [
       "   Mean_square_error on training data M_value  \\\n",
       "0                        6.300310e-01     M=0   \n",
       "1                        5.101331e-01     M=1   \n",
       "3                        1.231511e-01     M=3   \n",
       "6                        3.154278e-02     M=6   \n",
       "9                        5.807022e-09     M=9   \n",
       "\n",
       "  Mean_square_error on validation data  \n",
       "0                 [0.0362578433700038]  \n",
       "1                [0.01865765611618459]  \n",
       "3                [0.03662155862427861]  \n",
       "6                [0.04997556962062541]  \n",
       "9                 [0.6380800196539298]  "
      ]
     },
     "execution_count": 65,
     "metadata": {},
     "output_type": "execute_result"
    }
   ],
   "source": [
    "Mean_square_error"
   ]
  },
  {
   "cell_type": "markdown",
   "metadata": {},
   "source": [
    "For each model:  𝑀={0,1,3,6,9} , report the coefficients  𝐰∗"
   ]
  },
  {
   "cell_type": "markdown",
   "metadata": {},
   "source": [
    "As the w value increases the model complexity was increasing."
   ]
  },
  {
   "cell_type": "code",
   "execution_count": 66,
   "metadata": {},
   "outputs": [
    {
     "data": {
      "text/plain": [
       "{'M=0': array([[0.02380833]]),\n",
       " 'M=1': array([[ 0.56629796],\n",
       "        [-1.08497927]]),\n",
       " 'M=3': array([[ -0.44181829],\n",
       "        [ 14.32284109],\n",
       "        [-39.25594121],\n",
       "        [ 25.61933407]]),\n",
       " 'M=6': array([[  -0.7965621 ],\n",
       "        [  30.82965905],\n",
       "        [-145.20275381],\n",
       "        [ 285.83008024],\n",
       "        [-314.61337085],\n",
       "        [ 201.33217547],\n",
       "        [ -57.43053962]]),\n",
       " 'M=9': array([[-8.01034504e-01],\n",
       "        [-2.01423931e+02],\n",
       "        [ 5.19602484e+03],\n",
       "        [-4.73920618e+04],\n",
       "        [ 2.20870761e+05],\n",
       "        [-5.93444276e+05],\n",
       "        [ 9.56270063e+05],\n",
       "        [-9.12059518e+05],\n",
       "        [ 4.74489007e+05],\n",
       "        [-1.03727812e+05]])}"
      ]
     },
     "execution_count": 66,
     "metadata": {},
     "output_type": "execute_result"
    }
   ],
   "source": [
    "w_values_all"
   ]
  },
  {
   "cell_type": "markdown",
   "metadata": {},
   "source": [
    "Q.report of the on the validation set on mean squared error for each model."
   ]
  },
  {
   "cell_type": "code",
   "execution_count": 67,
   "metadata": {},
   "outputs": [
    {
     "data": {
      "text/html": [
       "<div>\n",
       "<style scoped>\n",
       "    .dataframe tbody tr th:only-of-type {\n",
       "        vertical-align: middle;\n",
       "    }\n",
       "\n",
       "    .dataframe tbody tr th {\n",
       "        vertical-align: top;\n",
       "    }\n",
       "\n",
       "    .dataframe thead th {\n",
       "        text-align: right;\n",
       "    }\n",
       "</style>\n",
       "<table border=\"1\" class=\"dataframe\">\n",
       "  <thead>\n",
       "    <tr style=\"text-align: right;\">\n",
       "      <th></th>\n",
       "      <th>Mean_square_error on training data</th>\n",
       "      <th>M_value</th>\n",
       "      <th>Mean_square_error on validation data</th>\n",
       "    </tr>\n",
       "  </thead>\n",
       "  <tbody>\n",
       "    <tr>\n",
       "      <th>0</th>\n",
       "      <td>6.300310e-01</td>\n",
       "      <td>M=0</td>\n",
       "      <td>[0.0362578433700038]</td>\n",
       "    </tr>\n",
       "    <tr>\n",
       "      <th>1</th>\n",
       "      <td>5.101331e-01</td>\n",
       "      <td>M=1</td>\n",
       "      <td>[0.01865765611618459]</td>\n",
       "    </tr>\n",
       "    <tr>\n",
       "      <th>3</th>\n",
       "      <td>1.231511e-01</td>\n",
       "      <td>M=3</td>\n",
       "      <td>[0.03662155862427861]</td>\n",
       "    </tr>\n",
       "    <tr>\n",
       "      <th>6</th>\n",
       "      <td>3.154278e-02</td>\n",
       "      <td>M=6</td>\n",
       "      <td>[0.04997556962062541]</td>\n",
       "    </tr>\n",
       "    <tr>\n",
       "      <th>9</th>\n",
       "      <td>5.807022e-09</td>\n",
       "      <td>M=9</td>\n",
       "      <td>[0.6380800196539298]</td>\n",
       "    </tr>\n",
       "  </tbody>\n",
       "</table>\n",
       "</div>"
      ],
      "text/plain": [
       "   Mean_square_error on training data M_value  \\\n",
       "0                        6.300310e-01     M=0   \n",
       "1                        5.101331e-01     M=1   \n",
       "3                        1.231511e-01     M=3   \n",
       "6                        3.154278e-02     M=6   \n",
       "9                        5.807022e-09     M=9   \n",
       "\n",
       "  Mean_square_error on validation data  \n",
       "0                 [0.0362578433700038]  \n",
       "1                [0.01865765611618459]  \n",
       "3                [0.03662155862427861]  \n",
       "6                [0.04997556962062541]  \n",
       "9                 [0.6380800196539298]  "
      ]
     },
     "execution_count": 67,
     "metadata": {},
     "output_type": "execute_result"
    }
   ],
   "source": [
    "Mean_square_error"
   ]
  },
  {
   "cell_type": "markdown",
   "metadata": {},
   "source": [
    "Q.Plot the training and validation set mean squared errors for models with  𝑀={0,1,3,6,9}  on the same graph. Explain the trend in the error values with increasing model complexity."
   ]
  },
  {
   "cell_type": "code",
   "execution_count": 68,
   "metadata": {},
   "outputs": [
    {
     "data": {
      "image/png": "[encoded data removed]",
      "text/plain": [
       "<Figure size 432x288 with 1 Axes>"
      ]
     },
     "metadata": {
      "needs_background": "light"
     },
     "output_type": "display_data"
    }
   ],
   "source": [
    "plt.plot(M,mse_test,label='mean square error of testing set')\n",
    "plt.plot(M,mse_value_valid,label='mean square error of validation set')\n",
    "plt.xlabel('The value of M (degree of polynomial)')\n",
    "plt.ylabel('mean square error')\n",
    "plt.title( 'Plot the training and validation set')\n",
    "plt.legend()\n",
    "plt.show()"
   ]
  },
  {
   "cell_type": "markdown",
   "metadata": {},
   "source": [
    "For the training dataset the mean square error was decreasing but for the validation dataset the mean square error was increasing.\n",
    "As the model complexity increases the mean square error for the testing dataset decreases and for validation dataset it increases."
   ]
  },
  {
   "cell_type": "markdown",
   "metadata": {},
   "source": [
    "### Regularization"
   ]
  },
  {
   "cell_type": "markdown",
   "metadata": {},
   "source": [
    "Q.Report the coefficients of the model fit above for $\\lambda={0.01, 0.1, 1}$. Explain the trend in the coefficient values with increasing $\\lambda$."
   ]
  },
  {
   "cell_type": "code",
   "execution_count": 69,
   "metadata": {},
   "outputs": [
    {
     "data": {
      "text/plain": [
       "{'lamda=0': array([[-8.01034504e-01],\n",
       "        [-2.01423931e+02],\n",
       "        [ 5.19602484e+03],\n",
       "        [-4.73920618e+04],\n",
       "        [ 2.20870761e+05],\n",
       "        [-5.93444276e+05],\n",
       "        [ 9.56270063e+05],\n",
       "        [-9.12059518e+05],\n",
       "        [ 4.74489007e+05],\n",
       "        [-1.03727812e+05]]),\n",
       " 'lamda=0.01': array([[ 0.26313264],\n",
       "        [ 2.79639005],\n",
       "        [-5.43874692],\n",
       "        [-2.29656651],\n",
       "        [ 0.39408511],\n",
       "        [ 1.58008608],\n",
       "        [ 1.69367174],\n",
       "        [ 1.19522092],\n",
       "        [ 0.39470501],\n",
       "        [-0.52256999]]),\n",
       " 'lamda=0.1': array([[ 0.49223488],\n",
       "        [-0.02015022],\n",
       "        [-1.33470403],\n",
       "        [-0.87337268],\n",
       "        [-0.32396234],\n",
       "        [ 0.07054197],\n",
       "        [ 0.31967684],\n",
       "        [ 0.46621812],\n",
       "        [ 0.54619851],\n",
       "        [ 0.58463329]]),\n",
       " 'lamda=1': array([[ 0.28789021],\n",
       "        [-0.26536795],\n",
       "        [-0.3639303 ],\n",
       "        [-0.24346112],\n",
       "        [-0.12012169],\n",
       "        [-0.02468469],\n",
       "        [ 0.04491669],\n",
       "        [ 0.09519299],\n",
       "        [ 0.13176589],\n",
       "        [ 0.15873128]])}"
      ]
     },
     "execution_count": 69,
     "metadata": {},
     "output_type": "execute_result"
    }
   ],
   "source": [
    "w_values_reg"
   ]
  },
  {
   "cell_type": "markdown",
   "metadata": {},
   "source": [
    "For the lambda=0 the curve was over fitting and as the lambda was increasing we had best fit and futher increases causes underfitting."
   ]
  },
  {
   "cell_type": "markdown",
   "metadata": {},
   "source": [
    " Q.Find the optimal value of the hyperparameter $\\lambda$ and Compare the validation error results of the following two models : polynomial regression model of order $M=9$ without regularization and polynomial regression model of order $M=9$ with regularization hyperparameter as estimated above."
   ]
  },
  {
   "cell_type": "code",
   "execution_count": 70,
   "metadata": {},
   "outputs": [
    {
     "data": {
      "text/plain": [
       "{'lamda=0': array([1.25250139]),\n",
       " 'lamda=0.01': array([0.26278542]),\n",
       " 'lamda=0.1': array([0.34141962]),\n",
       " 'lamda=1': array([0.50803441])}"
      ]
     },
     "execution_count": 70,
     "metadata": {},
     "output_type": "execute_result"
    }
   ],
   "source": [
    "mse_value_hyp"
   ]
  },
  {
   "cell_type": "markdown",
   "metadata": {},
   "source": [
    "The mean square error was found to be minimmum for lamda=0.01 so the optimal value of the hyperparameter is $\\lambda$ =0.01.\n",
    "Above lamda=0 is the mean square error of polynomial regression model of order $M=9$ without regularization"
   ]
  },
  {
   "cell_type": "code",
   "execution_count": null,
   "metadata": {},
   "outputs": [],
   "source": []
  }
 ],
 "metadata": {
  "kernelspec": {
   "display_name": "Python 3",
   "language": "python",
   "name": "python3"
  },
  "language_info": {
   "codemirror_mode": {
    "name": "ipython",
    "version": 3
   },
   "file_extension": ".py",
   "mimetype": "text/x-python",
   "name": "python",
   "nbconvert_exporter": "python",
   "pygments_lexer": "ipython3",
   "version": "3.7.6"
  }
 },
 "nbformat": 4,
 "nbformat_minor": 4
}
