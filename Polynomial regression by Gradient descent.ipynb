{
 "cells": [
  {
   "cell_type": "markdown",
   "metadata": {},
   "source": [
    "# Polynomial Regression by Gradient descent"
   ]
  },
  {
   "cell_type": "code",
   "execution_count": 17,
   "metadata": {},
   "outputs": [],
   "source": [
    "#numpy, matplotlib, seaborn, pandas libraries were used here.\n",
    "import numpy as np\n",
    "import matplotlib.pyplot as plt\n",
    "import pandas as pd\n",
    "import seaborn as sns\n",
    "%matplotlib inline"
   ]
  },
  {
   "cell_type": "markdown",
   "metadata": {},
   "source": [
    "### Dataset generation\n",
    "- Generate 10 data points $f(x)=sin(2\\pi x)$ where $x \\hspace{0.1cm} \\epsilon \\hspace{0.1cm} [0, 1]$ is sampled uniformly.\n",
    "- Add Gaussian noise $N(0, 0.5)$ to the generated data. By generating data in this way, we are capturing a property of many real data sets - namely, that they possess an underlying regularity $f(x)$, which we wish to learn, but that individual observations are corrupted by random noise $N(0,0.5)$.\n",
    "- We will now use this set of 10 data points as the training dataset."
   ]
  },
  {
   "cell_type": "code",
   "execution_count": 18,
   "metadata": {},
   "outputs": [],
   "source": [
    "#creation of training 10 datasets.\n",
    "N=10\n",
    "#linear spaced 10 datasets.\n",
    "random_x=np.linspace(0,1,N)\n",
    "\n",
    "tetha=2*np.pi*random_x\n",
    "random_y=np.sin(tetha)\n",
    "#random y value of sin(x)\n",
    "random_y\n",
    "\n",
    "mean=0\n",
    "sigma=0.5\n",
    "noise=np.random.normal(mean,sigma,random_y.shape)\n",
    "\n",
    "#adding noise to the datasets such that mean=0 and standard deviation=0.5 of normal distribution.\n",
    "Final_value=random_y+noise"
   ]
  },
  {
   "cell_type": "code",
   "execution_count": 19,
   "metadata": {},
   "outputs": [
    {
     "data": {
      "image/png": "[encoded data removed]",
      "text/plain": [
       "<Figure size 432x288 with 1 Axes>"
      ]
     },
     "metadata": {
      "needs_background": "light"
     },
     "output_type": "display_data"
    }
   ],
   "source": [
    "#Final scattering plot of 10 random datasets.\n",
    "plt.scatter(random_x,Final_value)\n",
    "plt.xlabel('x_axis')\n",
    "plt.ylabel('y_axis')\n",
    "plt.title('Generate of 10 data points plot')\n",
    "plt.show()"
   ]
  },
  {
   "cell_type": "code",
   "execution_count": 20,
   "metadata": {},
   "outputs": [
    {
     "data": {
      "text/plain": [
       "array([0.        , 0.11111111, 0.22222222, 0.33333333, 0.44444444,\n",
       "       0.55555556, 0.66666667, 0.77777778, 0.88888889, 1.        ])"
      ]
     },
     "execution_count": 20,
     "metadata": {},
     "output_type": "execute_result"
    }
   ],
   "source": [
    "#random_x value\n",
    "random_x"
   ]
  },
  {
   "cell_type": "code",
   "execution_count": 21,
   "metadata": {},
   "outputs": [
    {
     "data": {
      "text/plain": [
       "array([ 0.00000000e+00,  6.42787610e-01,  9.84807753e-01,  8.66025404e-01,\n",
       "        3.42020143e-01, -3.42020143e-01, -8.66025404e-01, -9.84807753e-01,\n",
       "       -6.42787610e-01, -2.44929360e-16])"
      ]
     },
     "execution_count": 21,
     "metadata": {},
     "output_type": "execute_result"
    }
   ],
   "source": [
    "#random_y value\n",
    "random_y"
   ]
  },
  {
   "cell_type": "code",
   "execution_count": 22,
   "metadata": {},
   "outputs": [
    {
     "data": {
      "text/plain": [
       "array([ 0.25919818, -0.07747885,  0.53246883,  0.67246351, -0.35230043,\n",
       "        1.05456271, -0.56668415,  0.23064541,  0.11481004,  0.348095  ])"
      ]
     },
     "execution_count": 22,
     "metadata": {},
     "output_type": "execute_result"
    }
   ],
   "source": [
    "#noise value\n",
    "noise"
   ]
  },
  {
   "cell_type": "code",
   "execution_count": 23,
   "metadata": {},
   "outputs": [
    {
     "data": {
      "text/plain": [
       "array([0.        , 0.6981317 , 1.3962634 , 2.0943951 , 2.7925268 ,\n",
       "       3.4906585 , 4.1887902 , 4.88692191, 5.58505361, 6.28318531])"
      ]
     },
     "execution_count": 23,
     "metadata": {},
     "output_type": "execute_result"
    }
   ],
   "source": [
    "#tetha value\n",
    "tetha"
   ]
  },
  {
   "cell_type": "code",
   "execution_count": 24,
   "metadata": {},
   "outputs": [
    {
     "data": {
      "text/plain": [
       "array([ 0.25919818,  0.56530876,  1.51727658,  1.53848891, -0.01028029,\n",
       "        0.71254257, -1.43270955, -0.75416234, -0.52797757,  0.348095  ])"
      ]
     },
     "execution_count": 24,
     "metadata": {},
     "output_type": "execute_result"
    }
   ],
   "source": [
    "#Final_value\n",
    "Final_value"
   ]
  },
  {
   "cell_type": "markdown",
   "metadata": {},
   "source": [
    "### Polynomial curve fitting \n",
    "- Fit 5 polynomial regression models with varying polynomial orders $M = \\{0, 1, 3, 6, 9\\}$ on the training dataset. Use the polynomial function of the form:  $y(x, \\textbf{w})=\\sum^{M}_{j=0}w_jx^j$ and $L2$ loss as the error function: $E(\\textbf{w})= \\frac{1}{2}\\sum^{N}_{n=1}\\{y(x_n, \\textbf{w}) - t_n)\\}^2$, where $t_n$ is the true output for the input $x_n$, and $N$ is the total number of training points.\n"
   ]
  },
  {
   "cell_type": "markdown",
   "metadata": {},
   "source": [
    "### Gradient descent for poly curve fitting"
   ]
  },
  {
   "cell_type": "code",
   "execution_count": 25,
   "metadata": {},
   "outputs": [],
   "source": [
    "#Varying polynomial order\n",
    "M=9\n",
    "Learning_rate=0.05"
   ]
  },
  {
   "cell_type": "code",
   "execution_count": 26,
   "metadata": {},
   "outputs": [
    {
     "name": "stdout",
     "output_type": "stream",
     "text": [
      "[ 0.58499768  2.71506763 -4.36179933 -3.33017788 -1.19242323  0.40128858\n",
      "  1.28155921  1.6030502   1.54572299  1.25192374]\n"
     ]
    }
   ],
   "source": [
    "theta_values=np.zeros(M+1)\n",
    "cost_value=[]\n",
    "h=np.zeros(random_x.size)\n",
    "for i in range(M+1):\n",
    "    h += (random_x**i)*theta_values[i]\n",
    "diff=np.array([np.sum((h-Final_value)*(random_x**j)) for j in range(M+1)])\n",
    "t_values=theta_values-((Learning_rate*diff)/N)\n",
    "theta_values=t_values\n",
    "cost=(np.sum((h-Final_value)**2)/(2*N))\n",
    "cost_value.append(cost)\n",
    "\n",
    "epochs=0\n",
    "tmp=1\n",
    "\n",
    "while tmp>10**-6:\n",
    "    h=np.zeros(random_x.size)\n",
    "    for i in range(M+1):\n",
    "        h += (random_x**i)*theta_values[i]\n",
    "    diff=np.array([np.sum((h-Final_value)*(random_x**j)) for j in range(M+1)])\n",
    "    t_values=theta_values-((Learning_rate*diff)/N)\n",
    "    theta_values=t_values\n",
    "    cost=(np.sum((h-Final_value)**2)/(2*N))\n",
    "    tmp=cost_value[len(cost_value)-1]-cost\n",
    "    cost_value.append(cost)\n",
    "    epochs+=1\n",
    "print(theta_values)"
   ]
  },
  {
   "cell_type": "code",
   "execution_count": 27,
   "metadata": {},
   "outputs": [
    {
     "data": {
      "image/png": "[encoded data removed]",
      "text/plain": [
       "<Figure size 432x288 with 1 Axes>"
      ]
     },
     "metadata": {
      "needs_background": "light"
     },
     "output_type": "display_data"
    }
   ],
   "source": [
    "plt.plot(np.arange(epochs+1),np.array(cost_value))\n",
    "plt.xlabel('No_of_epochs')\n",
    "plt.ylabel('cost_value')\n",
    "plt.title('plot of cost function value vs no of epochs')\n",
    "plt.show()"
   ]
  },
  {
   "cell_type": "markdown",
   "metadata": {},
   "source": [
    "Plot of  the graph of the function obtained from fitting the model onto the training dataset along with the training dataset points."
   ]
  },
  {
   "cell_type": "code",
   "execution_count": 28,
   "metadata": {},
   "outputs": [
    {
     "data": {
      "image/png": "[encoded data removed]",
      "text/plain": [
       "<Figure size 432x288 with 1 Axes>"
      ]
     },
     "metadata": {
      "needs_background": "light"
     },
     "output_type": "display_data"
    }
   ],
   "source": [
    "y_hat=np.zeros(random_x.size)\n",
    "for i in range(M+1):\n",
    "        y_hat += (random_x**i)*theta_values[i]\n",
    "plt.scatter(random_x,Final_value,label='training datasetplot')\n",
    "plt.plot(random_x,y_hat,color='red',label='polynomial fitted curve plot')\n",
    "plt.plot(random_x,random_y,color='green',label='f(x) curve plot')\n",
    "plt.ylim((-2,2))\n",
    "plt.xlim((0,1.3))\n",
    "plt.xlabel('x_axis')\n",
    "plt.ylabel('y_axis')\n",
    "plt.title('Final plot of Polynomial regression for M={}'.format(M))\n",
    "plt.legend()\n",
    "plt.show()"
   ]
  },
  {
   "cell_type": "markdown",
   "metadata": {},
   "source": [
    "Report of the mean squared error on the training dataset and the coeffcient of theta"
   ]
  },
  {
   "cell_type": "code",
   "execution_count": 29,
   "metadata": {},
   "outputs": [],
   "source": [
    "#This is the to find out the polynomial function.\n",
    "def fn(x,theta_values):\n",
    "    function=0\n",
    "    w=len(theta_values)\n",
    "    for k in range(w):\n",
    "        function += theta_values[k]*(x**k)\n",
    "    return function"
   ]
  },
  {
   "cell_type": "code",
   "execution_count": 30,
   "metadata": {},
   "outputs": [],
   "source": [
    "#Mean square error\n",
    "mse_value={}\n",
    "mse_test=[]\n",
    "theta_values_all={}\n",
    "M_val=[0,1,3,6,9]\n",
    "for m in M_val:\n",
    "    theta_values=np.zeros(m+1)\n",
    "    cost_value=[]\n",
    "    h=np.zeros(random_x.size)\n",
    "    for i in range(m+1):\n",
    "        h += (random_x**i)*theta_values[i]\n",
    "    diff=np.array([np.sum((h-Final_value)*(random_x**j)) for j in range(m+1)])\n",
    "    t_values=theta_values-((Learning_rate*diff)/N)\n",
    "    theta_values=t_values\n",
    "    cost=(np.sum((h-Final_value)**2)/(2*N))\n",
    "    cost_value.append(cost)\n",
    "\n",
    "    epochs=0\n",
    "    tmp=1\n",
    "\n",
    "    while tmp>10**-6:\n",
    "        h=np.zeros(random_x.size)\n",
    "        for i in range(m+1):\n",
    "            h += (random_x**i)*theta_values[i]\n",
    "        diff=np.array([np.sum((h-Final_value)*(random_x**j)) for j in range(m+1)])\n",
    "        t_values=theta_values-((Learning_rate*diff)/N)\n",
    "        theta_values=t_values\n",
    "        cost=(np.sum((h-Final_value)**2)/(2*N))\n",
    "        tmp=cost_value[len(cost_value)-1]-cost\n",
    "        cost_value.append(cost)\n",
    "        epochs+=1\n",
    "    theta_values_all.update({'M={}'.format(m):theta_values})\n",
    "    #This code helps in calculating y_value for the found out polynomial function.\n",
    "    y_axis=[fn(x,theta_values) for x in random_x]\n",
    "    \n",
    "    total=0\n",
    "    for j in range(N):\n",
    "        total += (Final_value[j]-y_axis[j])**2\n",
    "    MSE=total/N\n",
    "    mse_value.update({'{}'.format(m):MSE})\n",
    "    mse_test.append(MSE)"
   ]
  },
  {
   "cell_type": "markdown",
   "metadata": {},
   "source": [
    " The coefficients of  Thetha."
   ]
  },
  {
   "cell_type": "code",
   "execution_count": 31,
   "metadata": {},
   "outputs": [
    {
     "data": {
      "text/plain": [
       "{'M=0': array([0.21752324]),\n",
       " 'M=1': array([ 0.91520131, -1.39147537]),\n",
       " 'M=3': array([  0.64492993,   4.36610171, -16.26807728,  11.22352498]),\n",
       " 'M=6': array([ 0.5449812 ,  3.63999009, -6.24410453, -4.523786  , -0.72087707,\n",
       "         2.63401499,  5.10579816]),\n",
       " 'M=9': array([ 0.58499768,  2.71506763, -4.36179933, -3.33017788, -1.19242323,\n",
       "         0.40128858,  1.28155921,  1.6030502 ,  1.54572299,  1.25192374])}"
      ]
     },
     "execution_count": 31,
     "metadata": {},
     "output_type": "execute_result"
    }
   ],
   "source": [
    "theta_values_all"
   ]
  },
  {
   "cell_type": "markdown",
   "metadata": {},
   "source": [
    "mean squared error on the training dataset"
   ]
  },
  {
   "cell_type": "code",
   "execution_count": 32,
   "metadata": {},
   "outputs": [
    {
     "data": {
      "text/html": [
       "<div>\n",
       "<style scoped>\n",
       "    .dataframe tbody tr th:only-of-type {\n",
       "        vertical-align: middle;\n",
       "    }\n",
       "\n",
       "    .dataframe tbody tr th {\n",
       "        vertical-align: top;\n",
       "    }\n",
       "\n",
       "    .dataframe thead th {\n",
       "        text-align: right;\n",
       "    }\n",
       "</style>\n",
       "<table border=\"1\" class=\"dataframe\">\n",
       "  <thead>\n",
       "    <tr style=\"text-align: right;\">\n",
       "      <th></th>\n",
       "      <th>Mean_square_error on training data</th>\n",
       "      <th>M_value</th>\n",
       "    </tr>\n",
       "  </thead>\n",
       "  <tbody>\n",
       "    <tr>\n",
       "      <th>0</th>\n",
       "      <td>0.809420</td>\n",
       "      <td>M=0</td>\n",
       "    </tr>\n",
       "    <tr>\n",
       "      <th>1</th>\n",
       "      <td>0.598434</td>\n",
       "      <td>M=1</td>\n",
       "    </tr>\n",
       "    <tr>\n",
       "      <th>3</th>\n",
       "      <td>0.338298</td>\n",
       "      <td>M=3</td>\n",
       "    </tr>\n",
       "    <tr>\n",
       "      <th>6</th>\n",
       "      <td>0.259034</td>\n",
       "      <td>M=6</td>\n",
       "    </tr>\n",
       "    <tr>\n",
       "      <th>9</th>\n",
       "      <td>0.291080</td>\n",
       "      <td>M=9</td>\n",
       "    </tr>\n",
       "  </tbody>\n",
       "</table>\n",
       "</div>"
      ],
      "text/plain": [
       "   Mean_square_error on training data M_value\n",
       "0                            0.809420     M=0\n",
       "1                            0.598434     M=1\n",
       "3                            0.338298     M=3\n",
       "6                            0.259034     M=6\n",
       "9                            0.291080     M=9"
      ]
     },
     "execution_count": 32,
     "metadata": {},
     "output_type": "execute_result"
    }
   ],
   "source": [
    "Mean_square_error = pd.DataFrame(mse_value,index=['Mean_square_error on training data'])\n",
    "Mean_square_error=Mean_square_error.transpose()\n",
    "Mean_square_error['M_value']=['M=0','M=1','M=3','M=6','M=9']\n",
    "Mean_square_error"
   ]
  },
  {
   "cell_type": "code",
   "execution_count": null,
   "metadata": {},
   "outputs": [],
   "source": []
  },
  {
   "cell_type": "code",
   "execution_count": null,
   "metadata": {},
   "outputs": [],
   "source": []
  },
  {
   "cell_type": "code",
   "execution_count": null,
   "metadata": {},
   "outputs": [],
   "source": []
  }
 ],
 "metadata": {
  "kernelspec": {
   "display_name": "Python 3",
   "language": "python",
   "name": "python3"
  },
  "language_info": {
   "codemirror_mode": {
    "name": "ipython",
    "version": 3
   },
   "file_extension": ".py",
   "mimetype": "text/x-python",
   "name": "python",
   "nbconvert_exporter": "python",
   "pygments_lexer": "ipython3",
   "version": "3.7.6"
  }
 },
 "nbformat": 4,
 "nbformat_minor": 4
}
